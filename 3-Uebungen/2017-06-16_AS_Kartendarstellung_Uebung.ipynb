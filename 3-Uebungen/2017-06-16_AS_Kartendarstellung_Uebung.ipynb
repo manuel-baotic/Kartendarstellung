{
 "cells": [
  {
   "cell_type": "markdown",
   "metadata": {},
   "source": [
    "# Aufgabe 1 - Theorie"
   ]
  },
  {
   "cell_type": "markdown",
   "metadata": {},
   "source": [
    "<p>\n",
    "1. Wie können Kartenprojektionen nach ihren Abbildugseigenschaften klassifiziert werden? Nenne für jede Klasse ein Beispiel. <br>\n",
    "<p>\n",
    "2. Nenne zwei Beipiele für gebräuchliche Formate für Geo-Daten.<br>\n",
    "<br>\n",
    "</p>"
   ]
  },
  {
   "cell_type": "markdown",
   "metadata": {},
   "source": [
    "# Aufgabe 2 - Praxis"
   ]
  },
  {
   "cell_type": "markdown",
   "metadata": {},
   "source": [
    "<p> 1. Lassen Sie mit Hilfe von `ipyleaflet` eine Karte von Ulm anzeigen. Im Repository unter `\"daten/Kartendarstellung/\"` finden Sie den Datensatz grillplaetze.json. Setzen sie ein Layer auf die Karte mit Markern an den Positionen der Grillplätze. </p>"
   ]
  },
  {
   "cell_type": "markdown",
   "metadata": {},
   "source": [
    "> Nun den Kernel des Jupyter-Notebooks auf `R` umstellen!"
   ]
  },
  {
   "cell_type": "markdown",
   "metadata": {},
   "source": [
    "<p>2. Lesen Sie das Shapefile Stadtviertel_generalisiert ein (zu finden im Repository unter `\"daten/Kartendarstellung/Stadtviertel_generalisiert\"`). Lassen Sie die Stadtviertel mit `basemap` anzeigen \n",
    "</p> \n",
    ">Tipp: Als Ausschnitt für die Karte bieten sich folgende Bereiche an: \n",
    "- Längengrad 9.83 bis 10.05\n",
    "- Breitengrad 48.31 bis 48.47\n"
   ]
  },
  {
   "cell_type": "markdown",
   "metadata": {},
   "source": [
    "<p>3. Lesen Sie nun noch das Shapefile \"Bolzplaetze\" ein (zu finden im Repository unter `\"daten/Kartendarstellung/Ulm_Bolzploaetze\"`). <br>\n",
    "Geben Sie beide Shapefiles in einer gemeinsamen Karte aus, so dass die Postitionen der Fußballplätze erkennbar wird.</p>"
   ]
  }
 ],
 "metadata": {
  "kernelspec": {
   "display_name": "Python 3",
   "language": "python",
   "name": "python3"
  },
  "language_info": {
   "codemirror_mode": {
    "name": "ipython",
    "version": 3
   },
   "file_extension": ".py",
   "mimetype": "text/x-python",
   "name": "python",
   "nbconvert_exporter": "python",
   "pygments_lexer": "ipython3",
   "version": "3.6.0"
  }
 },
 "nbformat": 4,
 "nbformat_minor": 2
}
